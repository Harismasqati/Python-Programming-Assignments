{
 "cells": [
  {
   "cell_type": "code",
   "execution_count": 5,
   "metadata": {},
   "outputs": [
    {
     "name": "stdout",
     "output_type": "stream",
     "text": [
      "Give a number: 15\n",
      "The factorial of 15 is : 1307674368000\n"
     ]
    }
   ],
   "source": [
    "\"\"\"\"\n",
    "Question:1\n",
    "\n",
    "Write a Python function to calculate the factorial of a number (a non-negative\n",
    "integer). The function accepts the number as an argument.\"\"\"\n",
    "\n",
    "n= int(input(\"Give a number: \"))\n",
    "\n",
    "\n",
    "def factorial(number):\n",
    "    fact = 1\n",
    "    for i in range(1,n+1): \n",
    "        fact = fact * i \n",
    "    print (\"The factorial of\", n, \"is : \",end=\"\") \n",
    "    print (fact)\n",
    "factorial(n)"
   ]
  },
  {
   "cell_type": "code",
   "execution_count": 6,
   "metadata": {},
   "outputs": [
    {
     "name": "stdout",
     "output_type": "stream",
     "text": [
      "Write your Text: HaarIS\n",
      "Original String :  HaarIS\n",
      "No. of Upper case characters :  3\n",
      "No. of Lower case Characters :  3\n"
     ]
    }
   ],
   "source": [
    "\"\"\"\"\"\n",
    "Question:2\n",
    "\n",
    "Write a Python function that accepts a string and calculate the number of upper\n",
    "case letters and lower case letters.\"\"\"\n",
    "\n",
    "text = input(\"Write your Text: \")\n",
    "def string_test(s):\n",
    "    d={\"UPPER_CASE\":0, \"LOWER_CASE\":0}\n",
    "    for c in s:\n",
    "        if c.isupper():\n",
    "           d[\"UPPER_CASE\"]+=1\n",
    "        elif c.islower():\n",
    "           d[\"LOWER_CASE\"]+=1\n",
    "        else:\n",
    "           pass\n",
    "    print (\"Original String : \", s)\n",
    "    print (\"No. of Upper case characters : \", d[\"UPPER_CASE\"])\n",
    "    print (\"No. of Lower case Characters : \", d[\"LOWER_CASE\"])\n",
    "\n",
    "string_test(text)"
   ]
  },
  {
   "cell_type": "code",
   "execution_count": 7,
   "metadata": {},
   "outputs": [
    {
     "name": "stdout",
     "output_type": "stream",
     "text": [
      "12 4 66 "
     ]
    }
   ],
   "source": [
    "\"\"\"\"\"\n",
    "Question:3\n",
    "\n",
    "Write a Python function to print the even numbers from a given list.\"\"\"\n",
    "list1 = [12, 21, 4, 45, 66, 93] \n",
    "  \n",
    "def result(list):\n",
    "    for num in list1: \n",
    "        if num % 2 == 0: \n",
    "           print(num, end = \" \")\n",
    "result(list1)"
   ]
  },
  {
   "cell_type": "code",
   "execution_count": 9,
   "metadata": {},
   "outputs": [
    {
     "name": "stdout",
     "output_type": "stream",
     "text": [
      "write your text: madam\n",
      "True\n"
     ]
    }
   ],
   "source": [
    "\"\"\"\"\"\n",
    "Question:4\n",
    "\n",
    "Write a Python function that checks whether a passed string is palindrome or not.\"\"\"\n",
    "\n",
    "text = input(\"write your text: \")\n",
    "\n",
    "def isPalindrome(string):\n",
    "\tleft_pos = 0\n",
    "\tright_pos = len(string) - 1\n",
    "\t\n",
    "\twhile right_pos >= left_pos:\n",
    "\t\tif not string[left_pos] == string[right_pos]:\n",
    "\t\t\treturn False\n",
    "\t\tleft_pos += 1\n",
    "\t\tright_pos -= 1\n",
    "\treturn True\n",
    "print(isPalindrome(text)) "
   ]
  },
  {
   "cell_type": "code",
   "execution_count": 10,
   "metadata": {},
   "outputs": [
    {
     "name": "stdout",
     "output_type": "stream",
     "text": [
      "Write your number: 3\n",
      "3 is a prime number\n"
     ]
    }
   ],
   "source": [
    "\"\"\"\"\"\n",
    "Question:5\n",
    "\n",
    "Write a Python function that takes a number as a parameter and check the\n",
    "number is prime or not.\"\"\"\n",
    "\n",
    "num = int(input(\"Write your number: \"))\n",
    "def result():\n",
    "    if num > 1: \n",
    "      \n",
    "       for i in range(2, num//2): \n",
    "         \n",
    "       # If num is divisible by any number between  \n",
    "       # 2 and n / 2, it is not prime  \n",
    "           if (num % i) == 0: \n",
    "               print(num, \"is not a prime number\") \n",
    "               break\n",
    "       else: \n",
    "           print(num, \"is a prime number\") \n",
    "  \n",
    "    else: \n",
    "       print(num, \"is not a prime number\")\n",
    "result()"
   ]
  },
  {
   "cell_type": "code",
   "execution_count": 11,
   "metadata": {},
   "outputs": [
    {
     "name": "stdout",
     "output_type": "stream",
     "text": [
      "item1 Cloths\n",
      "item2 Stationaries\n"
     ]
    }
   ],
   "source": [
    "#Question:5\n",
    "def items(**parameters):\n",
    "    for key,value in parameters.items():\n",
    "        print(key + \" \" + value)\n",
    "items(item1 = \"Cloths\", item2 = \"Stationaries\")"
   ]
  },
  {
   "cell_type": "code",
   "execution_count": null,
   "metadata": {},
   "outputs": [],
   "source": []
  }
 ],
 "metadata": {
  "kernelspec": {
   "display_name": "Python 3",
   "language": "python",
   "name": "python3"
  },
  "language_info": {
   "codemirror_mode": {
    "name": "ipython",
    "version": 3
   },
   "file_extension": ".py",
   "mimetype": "text/x-python",
   "name": "python",
   "nbconvert_exporter": "python",
   "pygments_lexer": "ipython3",
   "version": "3.7.4"
  }
 },
 "nbformat": 4,
 "nbformat_minor": 2
}
