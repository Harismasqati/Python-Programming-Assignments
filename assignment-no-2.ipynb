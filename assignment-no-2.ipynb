{
 "cells": [
  {
   "cell_type": "code",
   "execution_count": null,
   "metadata": {},
   "outputs": [],
   "source": [
    "#Assignment no 2\n",
    "\n",
    "# 1) Write a program which takes 5 inputs from user for different subject’s marks, total it and generate mark sheet using grades?\n",
    "\n",
    "sub1 = int(input(\"Enter First Subject Numbers \"))\n",
    "sub2 = int(input(\"Enter Second Subject Numbers \"))\n",
    "sub3 = int(input(\"Enter Third Subject Numbers \"))\n",
    "sub4 = int(input(\"Enter Fourth Subject Numbers \"))\n",
    "sub5 = int(input(\"Enter Fifth Subject Numbers \"))\n",
    "obt_nos = sub1 + sub2 + sub3 + sub4 + sub5\n",
    "per = obt_nos / 500 * 100 \n",
    "\n",
    "if per >= 80 :\n",
    "    print(\"Yous Percentage is\", per, \"Your Grade is A+\")\n",
    "elif per >= 70 and < 80 :\n",
    "    print(\"Yous Percentage is\", per, \"Your Grade is A\")\n",
    "elif per >= 60 and < 70 :\n",
    "    print(\"Yous Percentage is\", per, \"Your Grade is B\")\n",
    "elif per >= 50 and < 40 :\n",
    "    print(\"Yous Percentage is\", per, \"Your Grade is C\")\n",
    "elif per >= 40 and < 30 :\n",
    "    print(\"Yous Percentage is\", per, \"Your Grade is D\")\n",
    "else:\n",
    "    print(\"Sorry You Are Fail!\")"
   ]
  },
  {
   "cell_type": "code",
   "execution_count": null,
   "metadata": {},
   "outputs": [],
   "source": [
    "# 2) Write a program which take input from user and identify that the given number is even or odd?\n",
    "\n",
    "num = int(input(\"Enter a number: \"))\n",
    "res = num % 2\n",
    "if res > 0:\n",
    "    print(\"This is an odd number.\")\n",
    "else:\n",
    "    print(\"This is an even number.\")\n"
   ]
  },
  {
   "cell_type": "code",
   "execution_count": null,
   "metadata": {},
   "outputs": [],
   "source": [
    "# 3) Write a program which print the length of the list? \n",
    "\n",
    "a = [] \n",
    "a.append(\"Haris\") \n",
    "a.append(\"Masqati\") \n",
    "a.append(\"Distek\") \n",
    "a.append(\"OkazStore.pk\") \n",
    "print(\"The length of list is: \", len(a)) "
   ]
  },
  {
   "cell_type": "code",
   "execution_count": null,
   "metadata": {},
   "outputs": [],
   "source": [
    "# 4) Write a Python program to sum all the numeric items in a list?\n",
    "lst = []\n",
    "num = int(input('How many numbers: '))\n",
    "for n in range(num):\n",
    "    numbers = int(input('Enter number '))\n",
    "    lst.append(numbers)\n",
    "print(\"Sum of elements in given list is :\", sum(lst))"
   ]
  },
  {
   "cell_type": "code",
   "execution_count": null,
   "metadata": {},
   "outputs": [],
   "source": [
    "# 5) Write a Python program to get the largest number from a numeric list.\n",
    "\n",
    "lst = []\n",
    "num = int(input('How many numbers: '))\n",
    "for n in range(num):\n",
    "    numbers = int(input('Enter number '))\n",
    "    lst.append(numbers)\n",
    "print(\"Maximum no in the list is :\", max(lst))"
   ]
  },
  {
   "cell_type": "code",
   "execution_count": null,
   "metadata": {},
   "outputs": [],
   "source": [
    "# 6) write a program that prints out all the elements of the list that are less than 5.\n",
    "\n",
    "a = [1, 1, 2, 3, 5, 8, 13, 21, 34, 55, 89]\n",
    "\n",
    "new_list = []\n",
    "\n",
    "for item in a:\n",
    "  if item < 5:\n",
    "    \n",
    "new_list.append(item)\n",
    "print(new_list)"
   ]
  }
 ],
 "metadata": {
  "kernelspec": {
   "display_name": "Python 3",
   "language": "python",
   "name": "python3"
  },
  "language_info": {
   "codemirror_mode": {
    "name": "ipython",
    "version": 3
   },
   "file_extension": ".py",
   "mimetype": "text/x-python",
   "name": "python",
   "nbconvert_exporter": "python",
   "pygments_lexer": "ipython3",
   "version": "3.7.4"
  }
 },
 "nbformat": 4,
 "nbformat_minor": 2
}
