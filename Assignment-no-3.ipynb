{
 "cells": [
  {
   "cell_type": "code",
   "execution_count": 1,
   "metadata": {},
   "outputs": [
    {
     "name": "stdout",
     "output_type": "stream",
     "text": [
      "Enter First Value 12\n",
      "Enter Second Value 12\n",
      "Enter Opertaor **\n",
      "Your Answer is 8916100448256\n"
     ]
    }
   ],
   "source": [
    "#Assignment no 3\n",
    "\n",
    "# 1) Make a calculator using Python with addition , subtraction , multiplication ,division and power.\n",
    "\n",
    "val1 = int(input(\"Enter First Value \"))\n",
    "val2 = int(input(\"Enter Second Value \"))\n",
    "opr = input(\"Enter Opertaor \")\n",
    "\n",
    "if opr == \"+\":\n",
    "    ans = val1 + val2\n",
    "    print(\"Your Answer is\", ans)\n",
    "elif opr == \"-\":\n",
    "    ans = val1 - val2\n",
    "    print(\"Your Answer is\", ans)\n",
    "elif opr == \"*\":\n",
    "    ans = val1 * val2\n",
    "    print(\"Your Answer is\", ans)\n",
    "elif opr == \"/\":\n",
    "    ans = val1 / val2\n",
    "    print(\"Your Answer is\", ans)\n",
    "elif opr == \"**\":\n",
    "    ans = val1 ** val2\n",
    "    print(\"Your Answer is\", ans)\n",
    "else:\n",
    "    print(\"Please Give Correct Operator\")\n",
    "    "
   ]
  },
  {
   "cell_type": "code",
   "execution_count": 4,
   "metadata": {},
   "outputs": [
    {
     "name": "stdout",
     "output_type": "stream",
     "text": [
      "Checking if 4 exists in list\n",
      "Element Exists\n"
     ]
    }
   ],
   "source": [
    "# 2) Write a program to check if there is any numeric value in list using for loop\n",
    "list = [ 1, 6, 3, 5, 3, 4 ] \n",
    "  \n",
    "print(\"Checking if 4 exists in list\") \n",
    "\n",
    "for i in list: \n",
    "    if(i == 4) : \n",
    "        print (\"Element Exists\") "
   ]
  },
  {
   "cell_type": "code",
   "execution_count": null,
   "metadata": {},
   "outputs": [],
   "source": [
    "# 3) Write a Python script to add a key to a dictionary\n",
    "\n",
    "var_name={\"key1\":\"Value1\", \"key2\":\"Value2\", \"key3\":\"Value3\"}\n",
    "print(var_name)\n",
    "\n",
    "var_name[\"key4\"] = \"Value4\"\n",
    "print(var_name)"
   ]
  },
  {
   "cell_type": "code",
   "execution_count": 27,
   "metadata": {},
   "outputs": [
    {
     "name": "stdout",
     "output_type": "stream",
     "text": [
      "196\n"
     ]
    }
   ],
   "source": [
    "# 4) Write a Python program to sum all the numeric items in a dictionary \n",
    "my_dict = {'numb1':150,'numb2':-54,'numb3':100}\n",
    "print(sum(my_dict.values()))"
   ]
  },
  {
   "cell_type": "code",
   "execution_count": 29,
   "metadata": {},
   "outputs": [
    {
     "name": "stdout",
     "output_type": "stream",
     "text": [
      "[20, 30, -20, 60]\n"
     ]
    }
   ],
   "source": [
    "# 5) Write a program to identify duplicate values from list\n",
    "\n",
    "def Repeat(x): \n",
    "    _size = len(x) \n",
    "    repeated = [] \n",
    "    for i in range(_size): \n",
    "        k = i + 1\n",
    "        for j in range(k, _size): \n",
    "            if x[i] == x[j] and x[i] not in repeated: \n",
    "                repeated.append(x[i]) \n",
    "    return repeated \n",
    "  \n",
    "list1 = [10, 20, 30, 20, 20, 30, 40,  \n",
    "         50, -20, 60, 60, -20, -20] \n",
    "print (Repeat(list1)) "
   ]
  },
  {
   "cell_type": "code",
   "execution_count": 30,
   "metadata": {},
   "outputs": [
    {
     "name": "stdout",
     "output_type": "stream",
     "text": [
      "Key is present in the dictionary\n",
      "Key is not present in the dictionary\n"
     ]
    }
   ],
   "source": [
    "# 6) Write a Python script to check if a given key already exists in a dictionary\n",
    "\n",
    "d = {1: 10, 2: 20, 3: 30, 4: 40, 5: 50, 6: 60}\n",
    "def is_key_present(x):\n",
    "  if x in d:\n",
    "      print('Key is present in the dictionary')\n",
    "  else:\n",
    "      print('Key is not present in the dictionary')\n",
    "is_key_present(5)\n",
    "is_key_present(9)"
   ]
  },
  {
   "cell_type": "code",
   "execution_count": null,
   "metadata": {},
   "outputs": [],
   "source": []
  }
 ],
 "metadata": {
  "kernelspec": {
   "display_name": "Python 3",
   "language": "python",
   "name": "python3"
  },
  "language_info": {
   "codemirror_mode": {
    "name": "ipython",
    "version": 3
   },
   "file_extension": ".py",
   "mimetype": "text/x-python",
   "name": "python",
   "nbconvert_exporter": "python",
   "pygments_lexer": "ipython3",
   "version": "3.7.4"
  }
 },
 "nbformat": 4,
 "nbformat_minor": 2
}
