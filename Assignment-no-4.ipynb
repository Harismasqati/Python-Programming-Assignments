{
 "cells": [
  {
   "cell_type": "code",
   "execution_count": 10,
   "metadata": {},
   "outputs": [
    {
     "name": "stdout",
     "output_type": "stream",
     "text": [
      "Haris\n",
      "Masqati\n",
      "22\n",
      "Karachi\n"
     ]
    }
   ],
   "source": [
    "#Question no 1:\n",
    "\n",
    "#Store their first name, last name, age, and the city in which they live. You should have keys such as first_name, last_name, age, and city. Print\n",
    "each piece of information stored in your dictionary.\n",
    "detail={\"first_name\":\"Haris\",\n",
    "       \"last_name\":\"Masqati\",\n",
    "       \"age\":\"22\",\n",
    "       \"city\":\"Karachi\"\n",
    "      }\n",
    "\n",
    "print(detail[\"first_name\"])\n",
    "print(detail[\"last_name\"])\n",
    "print(detail[\"age\"])\n",
    "print(detail[\"city\"])"
   ]
  },
  {
   "cell_type": "code",
   "execution_count": 14,
   "metadata": {},
   "outputs": [
    {
     "name": "stdout",
     "output_type": "stream",
     "text": [
      "{'first_name': 'Haris', 'last_name': 'Masqati', 'age': '22', 'city': 'Karachi', 'qualification': 'high academic level'}\n"
     ]
    }
   ],
   "source": [
    "#Add a new key value pair about qualification\n",
    "detail[\"qualification\"] = \"high academic level\"\n",
    "\n",
    "print(detail)"
   ]
  },
  {
   "cell_type": "code",
   "execution_count": 15,
   "metadata": {},
   "outputs": [
    {
     "name": "stdout",
     "output_type": "stream",
     "text": [
      "{'first_name': 'Haris', 'last_name': 'Masqati', 'age': '22', 'city': 'Karachi'}\n"
     ]
    }
   ],
   "source": [
    "#Delete qualification key\n",
    "\n",
    "del detail[\"qualification\"]\n",
    "print(detail)"
   ]
  },
  {
   "cell_type": "code",
   "execution_count": 19,
   "metadata": {},
   "outputs": [
    {
     "name": "stdout",
     "output_type": "stream",
     "text": [
      "{'County': 'Pakistan', 'Population': '14.91 million', 'Fact': 'Karachi is biggest City of Pakistan.'}\n"
     ]
    }
   ],
   "source": [
    "#Question no 2:\n",
    "\n",
    "#Apply Nested Dictionaries\n",
    "\n",
    "cities={\"Karachi\":{\"County\":\"Pakistan\", \"Population\":\"14.91 million\", \"Fact\":\"Karachi is biggest City of Pakistan.\"},\n",
    "       \"Washington\":{\"County\":\"USA\", \"Population\":\"7.536 million\", \"Fact\":\"The state of Washington is the only state to be named after a United States president.\"},\n",
    "       \"Shanghai\":{\"County\":\"China\", \"Population\":\"24.56 million\", \"Fact\":\"Shanghai is a world finance and cultural center.\"}\n",
    "       }\n",
    "print(cities[\"Karachi\"])"
   ]
  },
  {
   "cell_type": "code",
   "execution_count": 20,
   "metadata": {},
   "outputs": [
    {
     "name": "stdout",
     "output_type": "stream",
     "text": [
      "{'County': 'USA', 'Population': '7.536 million', 'Fact': 'The state of Washington is the only state to be named after a United States president.'}\n"
     ]
    }
   ],
   "source": [
    "print(cities[\"Washington\"])"
   ]
  },
  {
   "cell_type": "code",
   "execution_count": 21,
   "metadata": {
    "scrolled": true
   },
   "outputs": [
    {
     "name": "stdout",
     "output_type": "stream",
     "text": [
      "{'County': 'China', 'Population': '24.56 million', 'Fact': 'Shanghai is a world finance and cultural center.'}\n"
     ]
    }
   ],
   "source": [
    "print(cities[\"Shanghai\"])"
   ]
  },
  {
   "cell_type": "code",
   "execution_count": null,
   "metadata": {},
   "outputs": [],
   "source": [
    "#Question no 3:\n",
    "\n",
    "age = int(input(\"Enter Your's Age \"))\n",
    "if age < 3:\n",
    "    \n",
    "    print(\"Ticket is Free For You\")\n",
    "elif age > 3 and age < 12:\n",
    "    print(\"Ticket price 10$ For You\")\n",
    "elif age > 12:\n",
    "    print(\"Ticket price 15$ For You\")\n",
    "else:\n",
    "    print(\"Please Enter age between 1 to 15\")"
   ]
  },
  {
   "cell_type": "code",
   "execution_count": 3,
   "metadata": {},
   "outputs": [
    {
     "name": "stdout",
     "output_type": "stream",
     "text": [
      "Python is  One of my favorite books is Alice in Wonderland.\n"
     ]
    }
   ],
   "source": [
    "#Question no 4:\n",
    "\n",
    "def favorite_book(title):\n",
    "    print(title, \"One of my favorite books is Alice in Wonderland.\")\n",
    "favorite_book(\"Python is\")"
   ]
  },
  {
   "cell_type": "code",
   "execution_count": 1,
   "metadata": {},
   "outputs": [
    {
     "name": "stdout",
     "output_type": "stream",
     "text": [
      "What's your nameHaris\n",
      "Haris\n",
      "Whire your guess no 5\n",
      "Guess no too low\n",
      "Whire your guess no 3\n",
      "Guess no too low\n",
      "Whire your guess no 1\n",
      "Guess no too low\n",
      "You lose, please try again\n"
     ]
    }
   ],
   "source": [
    "# Question no 5: This is a guess the number game.\n",
    "\n",
    "import random\n",
    "\n",
    "name = input(\"What's your name\")\n",
    "number = random.randint(1, 30)\n",
    "print(name)\n",
    "guesstaken = 0\n",
    "\n",
    "while guesstaken < 3:\n",
    "    guess = int(input(\"Whire your guess no \"))\n",
    "    guesstaken = guesstaken + 1\n",
    "    if guess < number:\n",
    "        print(\"Guess no too low\")\n",
    "    elif guess > number:\n",
    "        print(\"Guess no is too high\")\n",
    "    else:\n",
    "        break\n",
    "\n",
    "         \n",
    "if guesstaken == number:\n",
    "    print(\"You guess correct no\")\n",
    "else:\n",
    "    print(\"You lose, please try again\")"
   ]
  },
  {
   "cell_type": "code",
   "execution_count": null,
   "metadata": {},
   "outputs": [],
   "source": []
  }
 ],
 "metadata": {
  "kernelspec": {
   "display_name": "Python 3",
   "language": "python",
   "name": "python3"
  },
  "language_info": {
   "codemirror_mode": {
    "name": "ipython",
    "version": 3
   },
   "file_extension": ".py",
   "mimetype": "text/x-python",
   "name": "python",
   "nbconvert_exporter": "python",
   "pygments_lexer": "ipython3",
   "version": "3.7.4"
  }
 },
 "nbformat": 4,
 "nbformat_minor": 2
}
